{
 "cells": [
  {
   "cell_type": "markdown",
   "id": "bc4fa13f",
   "metadata": {},
   "source": [
    "# Figure 4 (PE-Young) Full Analysis Notebook\n",
    "\n",
    "This notebook performs grid construction and CCI analyses, then generates panels 4E–4H for the PE-Young sample. Data are loaded directly from `./data/`. Results are saved to `./results/figure4_PEYoung/`."
   ]
  },
  {
   "cell_type": "markdown",
   "id": "f7f15c07",
   "metadata": {},
   "source": [
    "## 0. Setup & Imports"
   ]
  },
  {
   "cell_type": "code",
   "execution_count": null,
   "id": "9e1cecae",
   "metadata": {},
   "outputs": [],
   "source": [
    "import os\n",
    "import warnings\n",
    "warnings.filterwarnings(\"ignore\")\n",
    "\n",
    "import math\n",
    "import numpy as np\n",
    "import pandas as pd\n",
    "import scanpy as sc\n",
    "import squidpy as sq\n",
    "import stlearn as st\n",
    "import matplotlib.pyplot as plt\n",
    "\n",
    "import cv2\n",
    "from pathlib import Path\n",
    "from skimage.morphology import remove_small_objects, remove_small_holes, opening, closing, disk\n",
    "from scipy.ndimage import distance_transform_edt\n",
    "from spatialdata_io.readers.xenium import xenium, xenium_aligned_image\n",
    "\n",
    "# Directories\n",
    "DATA_DIR = Path(\"./data\")\n",
    "RESULTS_DIR = Path(\"./results/figure4_PEYoung\")\n",
    "RESULTS_DIR.mkdir(parents=True, exist_ok=True)\n",
    "\n",
    "# Ensure numpy compatibility\n",
    "import numpy as _np; _np.int = int\n"
   ]
  },
  {
   "cell_type": "markdown",
   "id": "1f9556c5",
   "metadata": {},
   "source": [
    "## 1. Load Xenium Data & AnnData"
   ]
  },
  {
   "cell_type": "code",
   "execution_count": null,
   "id": "8356ad98",
   "metadata": {},
   "outputs": [],
   "source": [
    "# Load SpatialData\n",
    "sdata = xenium(\n",
    "    image=DATA_DIR/\"morphology_PE-Young.ome.tif\",\n",
    "    matrix=DATA_DIR/\"transcripts_PE-Young.parquet\",\n",
    "    cell_boundaries=DATA_DIR/\"cell_boundaries_PE-Young.parquet\",\n",
    "    cells=DATA_DIR/\"cells_PE-Young.parquet\",\n",
    "    nucleus_boundaries=DATA_DIR/\"nucleus_boundaries_PE-Young.parquet\"\n",
    ")\n",
    "he_img = xenium_aligned_image(\n",
    "    DATA_DIR/\"morphology_PE-Young.ome.tif\",\n",
    "    DATA_DIR/\"transcripts_PE-Young.parquet\"\n",
    ")\n",
    "sdata.images[\"he_image_aligned\"] = he_img\n",
    "\n",
    "# Load AnnData (contains cell_type2, cell_niche)\n",
    "adata = sc.read_h5ad(DATA_DIR/\"PE-Young.h5ad\")\n"
   ]
  },
  {
   "cell_type": "markdown",
   "id": "2dcb9c1d",
   "metadata": {},
   "source": [
    "## 2. Grid Construction for CCI Analysis"
   ]
  },
  {
   "cell_type": "code",
   "execution_count": null,
   "id": "3b17bbaa",
   "metadata": {},
   "outputs": [],
   "source": [
    "# Build grid for cell-cell interaction (CCI)\n",
    "n_grid = 250\n",
    "grid = st.tl.cci.grid(adata, n_row=n_grid, n_col=n_grid, use_label=\"cell_type2\")\n",
    "\n",
    "# Copy spatial metadata and quality flag\n",
    "grid.uns['spatial'] = {\"library_id\": adata.uns['spatial']['library_id']}\n",
    "adata.uns['spatial']['library_id']['use_quality'] = 'hires'\n",
    "grid.uns['spatial']['library_id']['use_quality'] = 'hires'\n"
   ]
  },
  {
   "cell_type": "markdown",
   "id": "b017718b",
   "metadata": {},
   "source": [
    "## 3. Ligand–Receptor & CCI Computations"
   ]
  },
  {
   "cell_type": "code",
   "execution_count": null,
   "id": "d12aebff",
   "metadata": {},
   "outputs": [],
   "source": [
    "# Load LR pairs\n",
    "lrs = st.tl.cci.load_lrs(['connectomeDB2020_lit'], species='mouse')\n",
    "print(f\"Loaded {len(lrs)} LR pairs from connectomeDB2020_lit\")\n",
    "\n",
    "# Run neighborhood-based CCI scoring\n",
    "st.tl.cci.run(\n",
    "    grid, lrs,\n",
    "    min_spots=20,\n",
    "    distance=50,\n",
    "    n_pairs=1000,\n",
    "    n_cpus=4\n",
    ")\n",
    "\n",
    "# Run permutation test for significance\n",
    "st.tl.cci.run_cci(\n",
    "    grid,\n",
    "    use_label='cell_type2',\n",
    "    min_spots=2,\n",
    "    spot_mixtures=True,\n",
    "    cell_prop_cutoff=0.1,\n",
    "    sig_spots=True,\n",
    "    n_perms=500,\n",
    "    n_cpus=None\n",
    ")\n"
   ]
  },
  {
   "cell_type": "markdown",
   "id": "b844cf4e",
   "metadata": {},
   "source": [
    "## 4. Figure 4E & 4F: Fibrotic Niche CCI & Top LR Pairs"
   ]
  },
  {
   "cell_type": "code",
   "execution_count": null,
   "id": "9bc5453d",
   "metadata": {},
   "outputs": [],
   "source": [
    "# Panel 4E: Fibrotic niche CCI heatmap\n",
    "if 'lr_sig_scores' in grid.obsm:\n",
    "    fib_mask = grid.obs['cell_niche']=='Fibrotic Niche'\n",
    "    st.pl.cci.heatmap(\n",
    "        grid[fib_mask,:],\n",
    "        use_label='cell_type2',\n",
    "        figsize=(8,6),\n",
    "        show=False\n",
    "    )\n",
    "    plt.title(\"Figure 4E: PE-Young Fibrotic Niche CCI Heatmap\")\n",
    "    plt.savefig(RESULTS_DIR/\"Figure4E_PEYoung_fibrotic_cci.png\", dpi=300, bbox_inches='tight')\n",
    "    plt.close()\n",
    "\n",
    "# Panel 4F: Top 10 LR pairs in fibrotic niche\n",
    "if 'lr_sig_scores' in grid.obsm:\n",
    "    scores = grid.obsm['lr_sig_scores']\n",
    "    names  = grid.uns.get('lr_pair_names')\n",
    "    fib_mask = grid.obs['cell_niche']=='Fibrotic Niche'\n",
    "    summed = scores[fib_mask].sum(axis=0)\n",
    "    idx = np.argsort(summed)[-10:][::-1]\n",
    "    df = pd.DataFrame({\n",
    "        'lr_pair': [names[i] for i in idx] if names else idx,\n",
    "        'score': summed[idx]\n",
    "    })\n",
    "    ax = df.plot.barh(x='lr_pair', y='score', legend=False, figsize=(6,6))\n",
    "    ax.invert_yaxis()\n",
    "    plt.title(\"Figure 4F: PE-Young Top 10 LR Pairs (Fibrotic)\")\n",
    "    plt.xlabel(\"Summed Score\")\n",
    "    plt.tight_layout()\n",
    "    plt.savefig(RESULTS_DIR/\"Figure4F_PEYoung_fibrotic_top10.png\", dpi=300, bbox_inches='tight')\n",
    "    plt.close()\n"
   ]
  },
  {
   "cell_type": "markdown",
   "id": "0a40957c",
   "metadata": {},
   "source": [
    "## 5. Figure 4G & 4H: Remote Niche CCI & Top LR Pairs"
   ]
  },
  {
   "cell_type": "code",
   "execution_count": null,
   "id": "c933a1cf",
   "metadata": {},
   "outputs": [],
   "source": [
    "# Panel 4G: Remote niche CCI heatmap\n",
    "if 'lr_sig_scores' in grid.obsm:\n",
    "    rem_mask = grid.obs['cell_niche']=='Remote'\n",
    "    st.pl.cci.heatmap(\n",
    "        grid[rem_mask,:],\n",
    "        use_label='cell_type2',\n",
    "        figsize=(8,6),\n",
    "        show=False\n",
    "    )\n",
    "    plt.title(\"Figure 4G: PE-Young Remote Niche CCI Heatmap\")\n",
    "    plt.savefig(RESULTS_DIR/\"Figure4G_PEYoung_remote_cci.png\", dpi=300, bbox_inches='tight')\n",
    "    plt.close()\n",
    "\n",
    "# Panel 4H: Top 10 LR pairs in remote niche\n",
    "if 'lr_sig_scores' in grid.obsm:\n",
    "    scores = grid.obsm['lr_sig_scores']\n",
    "    names  = grid.uns.get('lr_pair_names')\n",
    "    rem_mask = grid.obs['cell_niche']=='Remote'\n",
    "    summed = scores[rem_mask].sum(axis=0)\n",
    "    idx = np.argsort(summed)[-10:][::-1]\n",
    "    df = pd.DataFrame({\n",
    "        'lr_pair': [names[i] for i in idx] if names else idx,\n",
    "        'score': summed[idx]\n",
    "    })\n",
    "    ax = df.plot.barh(x='lr_pair', y='score', legend=False, figsize=(6,6))\n",
    "    ax.invert_yaxis()\n",
    "    plt.title(\"Figure 4H: PE-Young Top 10 LR Pairs (Remote)\")\n",
    "    plt.xlabel(\"Summed Score\")\n",
    "    plt.tight_layout()\n",
    "    plt.savefig(RESULTS_DIR/\"Figure4H_PEYoung_remote_top10.png\", dpi=300, bbox_inches='tight')\n",
    "    plt.close()\n"
   ]
  }
 ],
 "metadata": {},
 "nbformat": 4,
 "nbformat_minor": 5
}
