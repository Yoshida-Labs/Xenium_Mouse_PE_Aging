{
 "cells": [
  {
   "cell_type": "markdown",
   "id": "00503368",
   "metadata": {},
   "source": [
    "# Figure 3 Analysis Notebook\n",
    "\n",
    "This notebook reconstructs Figure 3 (3A, 3C, 3E) entirely from the raw Xenium outputs in `./data/`."
   ]
  },
  {
   "cell_type": "markdown",
   "id": "a13745a8",
   "metadata": {},
   "source": [
    "## 0. Setup & Imports"
   ]
  },
  {
   "cell_type": "code",
   "execution_count": null,
   "id": "95d013e0",
   "metadata": {},
   "outputs": [],
   "source": [
    "import os\n",
    "from pathlib import Path\n",
    "import math\n",
    "import numpy as np\n",
    "import pandas as pd\n",
    "import scanpy as sc\n",
    "import squidpy as sq\n",
    "import matplotlib.pyplot as plt\n",
    "import cv2\n",
    "\n",
    "from skimage.transform import rescale\n",
    "from skimage.morphology import remove_small_objects, remove_small_holes, opening, closing, disk\n",
    "from scipy.ndimage import distance_transform_edt\n",
    "from spatialdata import SpatialData\n",
    "from spatialdata_io.readers.xenium import xenium, xenium_aligned_image\n",
    "\n",
    "# Create results directory\n",
    "output_folder = Path(\"./results/figure3\")\n",
    "output_folder.mkdir(parents=True, exist_ok=True)"
   ]
  },
  {
   "cell_type": "markdown",
   "id": "3834f789",
   "metadata": {},
   "source": [
    "## 1. Load SpatialData Without Zarr"
   ]
  },
  {
   "cell_type": "code",
   "execution_count": null,
   "id": "a15d035f",
   "metadata": {},
   "outputs": [],
   "source": [
    "def load_xenium_sample(sample_name: str, data_dir: Path) -> SpatialData:\n",
    "    \"\"\"Build a SpatialData from morphology + transcripts + boundaries parquet files.\"\"\"\n",
    "    ome     = data_dir / f\"morphology_{sample_name}.ome.tif\"\n",
    "    expr    = data_dir / f\"transcripts_{sample_name}.parquet\"\n",
    "    cb      = data_dir / f\"cell_boundaries_{sample_name}.parquet\"\n",
    "    cells   = data_dir / f\"cells_{sample_name}.parquet\"\n",
    "    nucleus = data_dir / f\"nucleus_boundaries_{sample_name}.parquet\"\n",
    "\n",
    "    return xenium(\n",
    "        image=ome,\n",
    "        matrix=expr,\n",
    "        cell_boundaries=cb,\n",
    "        cells=cells,\n",
    "        nucleus_boundaries=nucleus\n",
    "    )\n",
    "\n",
    "# Example load for PE-Aged\n",
    "data_dir = Path(\"./data\")\n",
    "sdata = load_xenium_sample(\"PE-Aged\", data_dir)\n",
    "print(\"Tables:\", list(sdata.tables.keys()))\n",
    "# Add aligned H&E image\n",
    "he_image = xenium_aligned_image(data_dir / \"morphology_PE-Aged.ome.tif\",\n",
    "                                data_dir / \"transcripts_PE-Aged.parquet\")\n",
    "sdata.images[\"he_image_aligned\"] = he_image\n",
    "print(\"Images:\", list(sdata.images.keys()))"
   ]
  },
  {
   "cell_type": "markdown",
   "id": "4cf4e28d",
   "metadata": {},
   "source": [
    "## 2. Figure 3A: H&E Transformation & Overlay"
   ]
  },
  {
   "cell_type": "code",
   "execution_count": null,
   "id": "27b4b157",
   "metadata": {},
   "outputs": [],
   "source": [
    "# 2.1 Preprocess H&E image\n",
    "img = sdata.images[\"he_image_aligned\"].values.transpose(1,2,0)\n",
    "img = np.flipud(np.rot90(np.fliplr(img), k=1))\n",
    "scale_factor = 1/2.5\n",
    "img_rescaled = rescale(img, scale_factor, anti_aliasing=True, channel_axis=-1)\n",
    "\n",
    "# 2.2 Segment pale-blue fibers\n",
    "def segment_pale_blue(image, lower=(90,30,40), upper=(130,255,255), min_size=500):\n",
    "    hsv = cv2.cvtColor((255*image).astype(np.uint8), cv2.COLOR_RGB2HSV)\n",
    "    mask = cv2.inRange(hsv, np.array(lower), np.array(upper))\n",
    "    mask = remove_small_holes(remove_small_objects(opening(mask, disk(3)).astype(bool), min_size), min_size)\n",
    "    return mask\n",
    "\n",
    "fibers_mask = segment_pale_blue(img_rescaled)\n",
    "\n",
    "# 2.3 Plot overlay\n",
    "fig, ax = plt.subplots(figsize=(8,8))\n",
    "ax.imshow(img_rescaled, origin='lower')\n",
    "ax.imshow(fibers_mask, cmap='jet', alpha=0.4, origin='lower')\n",
    "ax.axis('off')\n",
    "plt.title(\"Figure 3A: Segmented Fibers Overlay\", fontsize=16)\n",
    "fig.savefig(output_folder / \"Figure3A_overlay.png\", dpi=300, bbox_inches='tight')\n",
    "plt.show()"
   ]
  },
  {
   "cell_type": "markdown",
   "id": "3144ecfa",
   "metadata": {},
   "source": [
    "## 3. Figure 3C: Cell Niche Distribution (100% Stacked Bar)"
   ]
  },
  {
   "cell_type": "code",
   "execution_count": null,
   "id": "b9774727",
   "metadata": {},
   "outputs": [],
   "source": [
    "# Assume `adata` with obs['cell_niche'] exists after xenium->AnnData conversion\n",
    "# Here we convert table to AnnData\n",
    "adata = sc.AnnData(sdata.tables[\"cells\"])\n",
    "adata.obs[\"cell_niche\"] = sdata.tables[\"cells\"][\"cell_niche\"]\n",
    "\n",
    "# Compute percent per niche\n",
    "niches = [\"Fibrotic Niche\",\"Ultraproximal\",\"Proximal\",\"Intermediate\",\"Remote\"]\n",
    "df = {}\n",
    "for niche in niches + [\"All\"]:\n",
    "    if niche == \"All\":\n",
    "        series = adata.obs[\"cell_niche\"]\n",
    "    else:\n",
    "        series = adata.obs.loc[adata.obs[\"cell_niche\"]==niche, \"cell_niche\"]\n",
    "    df[niche] = series.value_counts(normalize=True)\n",
    "\n",
    "df_percent = pd.DataFrame(df).T.fillna(0)\n",
    "ax = df_percent.plot(kind='bar', stacked=True, figsize=(10,6), colormap='tab10')\n",
    "ax.set_ylabel(\"Proportion\")\n",
    "ax.legend(bbox_to_anchor=(1.02,1), loc='upper left')\n",
    "plt.title(\"Figure 3C: Cell Niche Distribution\", fontsize=16)\n",
    "plt.tight_layout()\n",
    "fig = ax.get_figure()\n",
    "fig.savefig(output_folder / \"Figure3C_stacked_bar.png\", dpi=300)\n",
    "plt.show()"
   ]
  },
  {
   "cell_type": "markdown",
   "id": "dc3b8066",
   "metadata": {},
   "source": [
    "## 4. Figure 3E: Subtype Dotplot"
   ]
  },
  {
   "cell_type": "code",
   "execution_count": null,
   "id": "ab04af75",
   "metadata": {},
   "outputs": [],
   "source": [
    "# Subdivision logic here (assumes adata.obs['cell_type2'] is populated)\n",
    "marker_genes = {\n",
    "    \"Cardiomyocyte\": [\"Ryr2\",\"Myl2\",\"Nppb\",\"Myh7\"],\n",
    "    \"Fibroblast\":    [\"Fstl1\",\"Col1a1\",\"Postn\"],\n",
    "    \"Endothelial\":   [\"Cd36\",\"Pecam1\",\"Vwf\",\"Emcn\"],\n",
    "    \"Epicardial\":    [\"Gpx3\"],\n",
    "    \"Smooth muscle\": [\"Myh11\",\"Acta2\"],\n",
    "    \"Macrophage\":    [\"C1qa\",\"Cd68\"],\n",
    "    \"Lymphocyte\":    [\"Ptprc\"],\n",
    "    \"Pericyte\":      [\"Rgs5\"],\n",
    "}\n",
    "\n",
    "# Dotplot by cell_type2\n",
    "sc.pl.dotplot(\n",
    "    adata,\n",
    "    var_names=marker_genes,\n",
    "    groupby='cell_type2',\n",
    "    standard_scale='var',\n",
    "    figsize=(10,6),\n",
    "    show=False\n",
    ")\n",
    "plt.title(\"Figure 3E: Subtype Dotplot\", fontsize=16)\n",
    "plt.savefig(output_folder / \"Figure3E_dotplot.png\", dpi=300, bbox_inches='tight')\n",
    "plt.show()"
   ]
  }
 ],
 "metadata": {},
 "nbformat": 4,
 "nbformat_minor": 5
}
