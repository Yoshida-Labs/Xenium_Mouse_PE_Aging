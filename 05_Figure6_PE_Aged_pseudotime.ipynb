{
 "cells": [
  {
   "cell_type": "markdown",
   "id": "1f4eaa33",
   "metadata": {},
   "source": [
    "# Figure 6 Analysis Notebook (PE-Aged)\n",
    "\n",
    "This notebook generates panels 6A–6J for the PE-Aged sample, using only `Fibroblast (activated)` for 6A and fixed gene lists for subsequent panels."
   ]
  },
  {
   "cell_type": "markdown",
   "id": "b00e0d71",
   "metadata": {},
   "source": [
    "## 0. Setup & Imports"
   ]
  },
  {
   "cell_type": "code",
   "execution_count": null,
   "id": "4811efe2",
   "metadata": {},
   "outputs": [],
   "source": [
    "import os\n",
    "import numpy as np\n",
    "import pandas as pd\n",
    "import scanpy as sc\n",
    "import matplotlib.pyplot as plt\n",
    "import seaborn as sns\n",
    "from scipy.sparse import issparse\n",
    "from scipy.ndimage import gaussian_filter1d\n",
    "from scipy.spatial import KDTree\n",
    "from matplotlib.colors import Normalize\n",
    "from matplotlib.patches import Patch\n",
    "\n",
    "# Directories\n",
    "DATA_DIR = \"./data\"\n",
    "RESULTS_DIR = \"./results/figure6_PE_Aged\"\n",
    "os.makedirs(RESULTS_DIR, exist_ok=True)\n",
    "\n",
    "# Parameters\n",
    "fibrotic_niches = [\"Fibrotic Niche\", \"Ultraproximal\", \"Proximal\"]\n",
    "remote_niche = \"Remote\"\n",
    "NUM_BINS = 50\n",
    "min_std = 1e-4\n",
    "min_fraction_target = 0.1\n",
    "fib_fraction_threshold = 0.3\n",
    "early_phase_bins = 50\n",
    "fold_change_threshold = 2\n",
    "sizes_range = (100, 500)\n",
    "label_offset_x = 0.05\n",
    "label_offset_y = 0.05\n",
    "label_fontsize = 20"
   ]
  },
  {
   "cell_type": "markdown",
   "id": "4c959723",
   "metadata": {},
   "source": [
    "## 1. Load Data & Expression Matrix"
   ]
  },
  {
   "cell_type": "code",
   "execution_count": null,
   "id": "4568d8c8",
   "metadata": {},
   "outputs": [],
   "source": [
    "# Load AnnData\n",
    "adata = sc.read_h5ad(f\"{DATA_DIR}/PE-Aged.h5ad\")\n",
    "\n",
    "# Build expr_all DataFrame\n",
    "if issparse(adata.X):\n",
    "    expr_all = pd.DataFrame(adata.X.A, index=adata.obs_names, columns=adata.var_names)\n",
    "else:\n",
    "    expr_all = pd.DataFrame(adata.X, index=adata.obs_names, columns=adata.var_names)"
   ]
  },
  {
   "cell_type": "markdown",
   "id": "95fdf420",
   "metadata": {},
   "source": [
    "## 2. Helper Functions"
   ]
  },
  {
   "cell_type": "code",
   "execution_count": null,
   "id": "466c9433",
   "metadata": {},
   "outputs": [],
   "source": [
    "def get_grouped_data(adata_subset, num_bins=NUM_BINS):\n",
    "    pt = adata_subset.obs[\"pseudotime\"]\n",
    "    bins = np.linspace(pt.min(), pt.max(), num_bins+1)\n",
    "    pt_bin = pd.cut(pt, bins=bins, labels=range(num_bins), include_lowest=True).astype(int)\n",
    "    df = pd.DataFrame(\n",
    "        adata_subset.X.A if issparse(adata_subset.X) else adata_subset.X,\n",
    "        index=adata_subset.obs_names, columns=adata_subset.var_names\n",
    "    )\n",
    "    df[\"pt_bin\"] = pt_bin.values\n",
    "    grp = df.groupby(\"pt_bin\").mean().reindex(range(num_bins), fill_value=0)\n",
    "    centers = (bins[:-1] + bins[1:]) / 2\n",
    "    return grp, centers\n",
    "\n",
    "def filter_genes_by_conditions(adata, target_cell_type):\n",
    "    tgt = adata.obs[\"cell_type2\"] == target_cell_type\n",
    "    expr_tgt = expr_all.loc[tgt]\n",
    "    cond = (expr_tgt.std(axis=0) > min_std) & ((expr_tgt > 0).mean(axis=0) > min_fraction_target)\n",
    "    genes = cond[cond].index.tolist()\n",
    "    genes2 = []\n",
    "    for g in genes:\n",
    "        mask = expr_tgt[g] > 0\n",
    "        frac = adata.obs.loc[tgt].loc[mask, \"cell_niche\"].isin(fibrotic_niches).mean()\n",
    "        if frac >= fib_fraction_threshold:\n",
    "            genes2.append(g)\n",
    "    genes3 = []\n",
    "    for g in genes2:\n",
    "        ok = True\n",
    "        for niche in fibrotic_niches:\n",
    "            m = tgt & (adata.obs[\"cell_niche\"] == niche)\n",
    "            if m.sum()==0: ok=False; break\n",
    "            grp, ctr = get_grouped_data(adata[m].copy())\n",
    "            smooth = gaussian_filter1d(grp[g].values, sigma=2)\n",
    "            if np.gradient(smooth, ctr)[:early_phase_bins].mean() <=0:\n",
    "                ok=False; break\n",
    "        if ok: genes3.append(g)\n",
    "    fibm = tgt & adata.obs[\"cell_niche\"].isin(fibrotic_niches)\n",
    "    remm = tgt & (adata.obs[\"cell_niche\"] == remote_niche)\n",
    "    passed=[]\n",
    "    for g in genes3:\n",
    "        rem_vals = expr_all.loc[remm, g]\n",
    "        if rem_vals.eq(0).all(): continue\n",
    "        fc = expr_all.loc[fibm, g].mean() / (rem_vals.mean() + 1e-9)\n",
    "        if fc > fold_change_threshold:\n",
    "            passed.append(g)\n",
    "    return passed\n",
    "\n",
    "def calc_avg_distance(adata, genes, ct=\"Fibroblast (activated)\"):\n",
    "    tgt = adata.obs[\"cell_type2\"] == ct\n",
    "    coords_t = adata.obsm[\"spatial\"][tgt]\n",
    "    coords_f = adata.obsm[\"spatial\"][adata.obs[\"cell_niche\"].isin(fibrotic_niches)]\n",
    "    tree = KDTree(coords_f)\n",
    "    return pd.Series({g: tree.query(coords_t[expr_all.loc[tgt,g]>0], k=1)[0].mean() \n",
    "                      if (expr_all.loc[tgt,g]>0).any() else np.nan\n",
    "                      for g in genes})\n",
    "\n",
    "def calc_fib_fraction(adata, genes, ct=\"Fibroblast (activated)\"):\n",
    "    tgt = adata.obs[\"cell_type2\"] == ct\n",
    "    expr_t = expr_all.loc[tgt]\n",
    "    niche = adata.obs.loc[tgt, \"cell_niche\"]\n",
    "    return pd.Series({g: ((expr_t[g]>0)&niche.isin(fibrotic_niches)).sum()/\n",
    "                      max((expr_t[g]>0).sum(),1)\n",
    "                      for g in genes})"
   ]
  },
  {
   "cell_type": "markdown",
   "id": "87a5aea1",
   "metadata": {},
   "source": [
    "## 3. Figure 6A: Scatter for Fibroblast (activated)"
   ]
  },
  {
   "cell_type": "code",
   "execution_count": null,
   "id": "3a3f1fac",
   "metadata": {},
   "outputs": [],
   "source": [
    "ct = \"Fibroblast (activated)\"\n",
    "genes = filter_genes_by_conditions(adata, ct)\n",
    "if genes:\n",
    "    dist = calc_avg_distance(adata, genes, ct)\n",
    "    frac = calc_fib_fraction(adata, genes, ct)\n",
    "    log2fc = np.log2((expr_all.loc[adata.obs[\"cell_type2\"]==ct,genes].mean()+1e-9)/\n",
    "                     (expr_all.loc[adata.obs[\"cell_niche\"]==remote_niche,genes].mean()+1e-9))\n",
    "    df = pd.DataFrame({\n",
    "        \"gene\": genes,\n",
    "        \"log2_fc\": log2fc.values,\n",
    "        \"avg_distance\": dist.values,\n",
    "        \"fib_fraction\": frac.values\n",
    "    })\n",
    "    sizes = np.interp(df[\"fib_fraction\"], (df[\"fib_fraction\"].min(), df[\"fib_fraction\"].max()), sizes_range)\n",
    "    colors = sns.color_palette(n_colors=len(genes))\n",
    "    cdict = dict(zip(genes, colors))\n",
    "    fig, ax = plt.subplots(figsize=(10,8))\n",
    "    for g in genes:\n",
    "        row = df[df[\"gene\"]==g]\n",
    "        ax.scatter(row[\"log2_fc\"], row[\"avg_distance\"],\n",
    "                   s=sizes[row.index], c=[cdict[g]], edgecolors='k', alpha=0.8, label=g)\n",
    "        ax.text(row[\"log2_fc\"]+label_offset_x, row[\"avg_distance\"]+label_offset_y,\n",
    "                g, fontsize=label_fontsize)\n",
    "    ax.set_xlabel(\"log2(AvgExpr Fibrotic / Remote)\")\n",
    "    ax.set_ylabel(\"Average distance to Fibrotic Niche\")\n",
    "    ax.set_title(ct)\n",
    "    ax.legend(title=\"Gene\")\n",
    "    plt.tight_layout()\n",
    "    plt.savefig(f\"{RESULTS_DIR}/Figure6A_scatter_{ct.replace(' ','_')}.png\", dpi=300)\n",
    "    plt.show()"
   ]
  },
  {
   "cell_type": "markdown",
   "id": "360d8c22",
   "metadata": {},
   "source": [
    "## 4. Figure 6B: Niche % Bar for Selected Genes"
   ]
  },
  {
   "cell_type": "code",
   "execution_count": null,
   "id": "bb8906f9",
   "metadata": {},
   "outputs": [],
   "source": [
    "genes_sel = [\"C1qtnf3\",\"Comp\",\"H19\",\"Cthrc1\"]\n",
    "for g in genes_sel:\n",
    "    mask = expr_all[g]>0\n",
    "    cnt = adata.obs.loc[mask,\"cell_niche\"].value_counts(normalize=True)\n",
    "    df = cnt.reindex(fibrotic_niches+[remote_niche]).fillna(0)\n",
    "    fig, ax = plt.subplots(figsize=(6,4))\n",
    "    df.plot(kind=\"bar\", color=[\"#8A2BE2\",\"#D62728\",\"#FFBF00\",\"#2ca02c\"], ax=ax)\n",
    "    ax.set_ylabel(\"Proportion\")\n",
    "    ax.set_title(f\"Figure 6B: {g} Niche %\")\n",
    "    plt.tight_layout()\n",
    "    plt.savefig(f\"{RESULTS_DIR}/Figure6B_{g}_niche_percent.png\", dpi=300)\n",
    "    plt.show()"
   ]
  },
  {
   "cell_type": "markdown",
   "id": "c8efbd44",
   "metadata": {},
   "source": [
    "## 5. Figures 6C–6F: Pseudotime Curves & CellType2 % Bar"
   ]
  },
  {
   "cell_type": "code",
   "execution_count": null,
   "id": "52e92bf2",
   "metadata": {},
   "outputs": [],
   "source": [
    "genes_sel = [\"C1qtnf3\",\"Comp\",\"H19\",\"Cthrc1\"]\n",
    "niche_list = fibrotic_niches + [\"Intermediate\",\"Remote\"]\n",
    "for i, g in enumerate(genes_sel):\n",
    "    fig, (ax1, ax2) = plt.subplots(1,2, figsize=(14,5), sharey=True)\n",
    "    for niche in niche_list:\n",
    "        sub = adata[(adata.obs[\"cell_type2\"]==\"Fibroblast (activated)\") & (adata.obs[\"cell_niche\"]==niche)]\n",
    "        if sub.n_obs:\n",
    "            grp, ctr = get_grouped_data(sub)\n",
    "            curve = gaussian_filter1d(grp[g].values, sigma=2)\n",
    "            ax1.plot(ctr, curve, label=niche)\n",
    "    ax1.set_title(f\"{g} Pseudotime Curve\"); ax1.set_xlabel(\"Pseudotime\"); ax1.set_ylabel(\"Avg Expr\")\n",
    "    ax1.legend()\n",
    "    expr_cells = expr_all[g]>0\n",
    "    ct_counts = adata.obs.loc[expr_cells,\"cell_type2\"].value_counts(normalize=True).reindex(adata.obs[\"cell_type2\"].cat.categories, fillna=0)\n",
    "    ax2.barh(ct_counts.index, ct_counts.values)\n",
    "    ax2.set_title(f\"{g} CellType2 %\"); ax2.set_xlabel(\"Proportion\")\n",
    "    plt.tight_layout()\n",
    "    plt.savefig(f\"{RESULTS_DIR}/Figure6{chr(67+i)}_{g}.png\", dpi=300)\n",
    "    plt.show()"
   ]
  },
  {
   "cell_type": "markdown",
   "id": "cd56079a",
   "metadata": {},
   "source": [
    "## 6. Figures 6G–6J: Spatial Plot Only"
   ]
  },
  {
   "cell_type": "code",
   "execution_count": null,
   "id": "aba3bccd",
   "metadata": {},
   "outputs": [],
   "source": [
    "from matplotlib.colors import Normalize\n",
    "from matplotlib.patches import Patch\n",
    "genes_sel = [\"C1qtnf3\",\"Comp\",\"H19\",\"Cthrc1\"]\n",
    "spatial = adata.obsm[\"spatial\"].values\n",
    "for i, g in enumerate(genes_sel):\n",
    "    vals = expr_all[g].fillna(0)\n",
    "    norm = Normalize(vmin=vals.min(), vmax=vals.max())\n",
    "    fig, ax = plt.subplots(figsize=(6,6))\n",
    "    ax.scatter(spatial[:,0], spatial[:,1], color=\"lightgray\", s=1)\n",
    "    nz = vals>0\n",
    "    sc = ax.scatter(spatial[nz,0], spatial[nz,1], c=vals[nz], cmap=\"viridis\", norm=norm, s=0.5)\n",
    "    ax.set_aspect(\"equal\"); ax.axis(\"off\")\n",
    "    ax.set_title(f\"{g} Spatial\")\n",
    "    fig.colorbar(sc, ax=ax, label=\"Expression\")\n",
    "    plt.tight_layout()\n",
    "    plt.savefig(f\"{RESULTS_DIR}/Figure6{chr(71+i)}_{g}_spatial.png\", dpi=300)\n",
    "    plt.show()"
   ]
  }
 ],
 "metadata": {},
 "nbformat": 4,
 "nbformat_minor": 5
}
