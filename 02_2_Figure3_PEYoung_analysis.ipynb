{
 "cells": [
  {
   "cell_type": "markdown",
   "id": "e1679f79",
   "metadata": {},
   "source": [
    "# Figure 3 (PE‑Young) Analysis Notebook\n",
    "\n",
    "This notebook generates panels 3B, 3D, and 3F for the PE‑Young sample, loading directly from the raw `.ome.tif` and `.parquet` files under `./data/`. Results are saved to `./results/figure3_PEYoung/`."
   ]
  },
  {
   "cell_type": "markdown",
   "id": "48d35d23",
   "metadata": {},
   "source": [
    "## 0. Setup & Imports"
   ]
  },
  {
   "cell_type": "code",
   "execution_count": null,
   "id": "e5ac1a8f",
   "metadata": {},
   "outputs": [],
   "source": [
    "import os\n",
    "import math\n",
    "import numpy as np\n",
    "import pandas as pd\n",
    "import scanpy as sc\n",
    "import matplotlib.pyplot as plt\n",
    "import cv2\n",
    "\n",
    "from pathlib import Path\n",
    "from skimage.morphology import remove_small_objects, remove_small_holes, opening, closing, disk\n",
    "from scipy.ndimage import distance_transform_edt\n",
    "from spatialdata_io.readers.xenium import xenium, xenium_aligned_image\n",
    "\n",
    "# Directories\n",
    "DATA_DIR = Path(\"./data\")\n",
    "RESULTS_DIR = Path(\"./results/figure3_PEYoung\")\n",
    "RESULTS_DIR.mkdir(parents=True, exist_ok=True)"
   ]
  },
  {
   "cell_type": "markdown",
   "id": "c0c696dc",
   "metadata": {},
   "source": [
    "## 1. Figure 3B: H&E Fiber Segmentation & Overlay"
   ]
  },
  {
   "cell_type": "code",
   "execution_count": null,
   "id": "2bd4bd86",
   "metadata": {},
   "outputs": [],
   "source": [
    "# Load Xenium data and aligned H&E\n",
    "sdata = xenium(\n",
    "    image=DATA_DIR/\"morphology_PE-Young.ome.tif\",\n",
    "    matrix=DATA_DIR/\"transcripts_PE-Young.parquet\",\n",
    "    cell_boundaries=DATA_DIR/\"cell_boundaries_PE-Young.parquet\",\n",
    "    cells=DATA_DIR/\"cells_PE-Young.parquet\",\n",
    "    nucleus_boundaries=DATA_DIR/\"nucleus_boundaries_PE-Young.parquet\"\n",
    ")\n",
    "he_img = xenium_aligned_image(\n",
    "    DATA_DIR/\"morphology_PE-Young.ome.tif\",\n",
    "    DATA_DIR/\"transcripts_PE-Young.parquet\"\n",
    ")\n",
    "img = he_img.values.transpose(1,2,0)\n",
    "img_rot = np.rot90(img, k=1)\n",
    "\n",
    "# Segment pale-blue fibers\n",
    "def segment_pale_blue(image, lower=(90,30,40), upper=(130,255,255), min_size=500):\n",
    "    hsv = cv2.cvtColor(image, cv2.COLOR_RGB2HSV)\n",
    "    mask = cv2.inRange(hsv, np.array(lower), np.array(upper))\n",
    "    mask = opening(mask, disk(3)).astype(bool)\n",
    "    mask = remove_small_holes(remove_small_objects(mask, min_size), min_size)\n",
    "    return mask\n",
    "\n",
    "fibers_mask = segment_pale_blue(img_rot)\n",
    "\n",
    "# Overlay\n",
    "overlay = img_rot.copy()\n",
    "overlay[fibers_mask] = (0,255,255)\n",
    "blended = cv2.addWeighted(overlay, 0.7, img_rot, 0.3, 0)\n",
    "\n",
    "plt.figure(figsize=(8,8))\n",
    "plt.imshow(blended)\n",
    "plt.axis('off')\n",
    "plt.title(\"Figure 3B: PE-Young Fiber Overlay\", fontsize=14)\n",
    "plt.savefig(RESULTS_DIR/\"Figure3B_PEYoung_overlay.png\", dpi=300, bbox_inches='tight')\n",
    "plt.show()"
   ]
  },
  {
   "cell_type": "markdown",
   "id": "01cb081e",
   "metadata": {},
   "source": [
    "## 2. Figure 3D: 100% Stacked Bar of Cell Type by Niche"
   ]
  },
  {
   "cell_type": "code",
   "execution_count": null,
   "id": "12733754",
   "metadata": {},
   "outputs": [],
   "source": [
    "# Load precomputed AnnData\n",
    "adata = sc.read_h5ad(DATA_DIR/\"PE-Young.h5ad\")\n",
    "\n",
    "# Compute proportions\n",
    "niche_groups = [\"Fibrotic Niche\",\"Ultraproximal\",\"Proximal\",\"Intermediate\",\"Remote\"]\n",
    "data = {}\n",
    "for niche in niche_groups + [\"All\"]:\n",
    "    if niche==\"All\":\n",
    "        ser = adata.obs[\"cell_type\"]\n",
    "    else:\n",
    "        ser = adata.obs.loc[adata.obs[\"cell_niche\"]==niche, \"cell_type\"]\n",
    "    data[niche] = ser.value_counts(normalize=True)\n",
    "\n",
    "df = pd.DataFrame(data).T.fillna(0)\n",
    "\n",
    "# Plot\n",
    "ax = df.plot(kind='bar', stacked=True, figsize=(10,6), colormap='tab10', edgecolor='k')\n",
    "ax.set_ylabel(\"Proportion\")\n",
    "ax.set_xlabel(\"Spatial Niche\")\n",
    "ax.legend(bbox_to_anchor=(1.02,1), loc='upper left', title=\"Cell Type\")\n",
    "plt.title(\"Figure 3D: PE-Young Cell Type Distribution\", fontsize=14)\n",
    "plt.tight_layout()\n",
    "plt.savefig(RESULTS_DIR/\"Figure3D_PEYoung_stacked_bar.png\", dpi=300, bbox_inches='tight')\n",
    "plt.show()"
   ]
  },
  {
   "cell_type": "markdown",
   "id": "64228328",
   "metadata": {},
   "source": [
    "## 3. Figure 3F: Subtype Dotplot by `cell_type2`"
   ]
  },
  {
   "cell_type": "code",
   "execution_count": null,
   "id": "6c8246c4",
   "metadata": {},
   "outputs": [],
   "source": [
    "# Define marker genes\n",
    "marker_genes = {\n",
    "    \"Cardiomyocyte\": [\"Ryr2\",\"Myl2\",\"Nppb\",\"Myh7\"],\n",
    "    \"Fibroblast\":    [\"Fstl1\",\"Col1a1\",\"Postn\"],\n",
    "    \"Endothelial\":   [\"Cd36\",\"Pecam1\",\"Vwf\",\"Emcn\"],\n",
    "    \"Epicardial\":    [\"Gpx3\"],\n",
    "    \"Smooth muscle\": [\"Myh11\",\"Acta2\"],\n",
    "    \"Macrophage\":    [\"C1qa\",\"Cd68\"],\n",
    "    \"Lymphocyte\":    [\"Ptprc\"],\n",
    "    \"Pericyte\":      [\"Rgs5\"],\n",
    "}\n",
    "\n",
    "# Dotplot\n",
    "sc.pl.dotplot(\n",
    "    adata,\n",
    "    var_names=marker_genes,\n",
    "    groupby='cell_type2',\n",
    "    standard_scale='var',\n",
    "    figsize=(10,6),\n",
    "    show=False\n",
    ")\n",
    "plt.title(\"Figure 3F: PE-Young Subtype Dotplot\", fontsize=14)\n",
    "plt.savefig(RESULTS_DIR/\"Figure3F_PEYoung_dotplot.png\", dpi=300, bbox_inches='tight')\n",
    "plt.show()"
   ]
  }
 ],
 "metadata": {},
 "nbformat": 4,
 "nbformat_minor": 5
}
