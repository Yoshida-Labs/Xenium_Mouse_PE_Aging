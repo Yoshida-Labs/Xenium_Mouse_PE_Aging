{
 "cells": [
  {
   "cell_type": "markdown",
   "id": "4b98fad9",
   "metadata": {},
   "source": [
    "# Xenium Mouse PE Aging Spatial Transcriptomic Analysis\n",
    "This notebook reproduces Figures 2A–2E. Data files under `./data/`, results saved to `./results/`."
   ]
  },
  {
   "cell_type": "markdown",
   "id": "0d1ef391",
   "metadata": {},
   "source": [
    "## 0. Setup and Imports"
   ]
  },
  {
   "cell_type": "code",
   "execution_count": null,
   "id": "724b6c98",
   "metadata": {},
   "outputs": [],
   "source": [
    "import os\n",
    "import numpy as np\n",
    "import pandas as pd\n",
    "import scanpy as sc\n",
    "import matplotlib.pyplot as plt\n",
    "\n",
    "# Create results directory\n",
    "os.makedirs('./results', exist_ok=True)"
   ]
  },
  {
   "cell_type": "markdown",
   "id": "6d8f876f",
   "metadata": {},
   "source": [
    "## 1. Load Processed AnnData Objects"
   ]
  },
  {
   "cell_type": "code",
   "execution_count": null,
   "id": "f8f86dc5",
   "metadata": {},
   "outputs": [],
   "source": [
    "# Paths to processed .h5ad files in the data folder\n",
    "adata_paths = {\n",
    "    'Control-Young': './data/Control-Young.h5ad',\n",
    "    'Control-Aged':  './data/Control-Aged.h5ad',\n",
    "    'PE-Young':      './data/PE-Young.h5ad',\n",
    "    'PE-Aged':       './data/PE-Aged.h5ad',\n",
    "}\n",
    "\n",
    "# Load each dataset and concatenate\n",
    "adatas = {k: sc.read_h5ad(v) for k, v in adata_paths.items()}\n",
    "adata_all = sc.concat(\n",
    "    list(adatas.values()),\n",
    "    label='condition',\n",
    "    keys=list(adatas.keys()),\n",
    "    join='outer'\n",
    ")\n",
    "print(adata_all)"
   ]
  },
  {
   "cell_type": "markdown",
   "id": "c6c32bc7",
   "metadata": {},
   "source": [
    "## 2. Figure 2A: Marker Gene Dotplot"
   ]
  },
  {
   "cell_type": "code",
   "execution_count": null,
   "id": "3e0acca0",
   "metadata": {},
   "outputs": [],
   "source": [
    "# Marker genes by cell type\n",
    "marker_genes = {\n",
    "    \"Cardiomyocyte\": [\"Ryr2\", \"Myl2\", \"Nppb\", \"Myh7\"],\n",
    "    \"Fibroblast\":    [\"Fstl1\", \"Col1a1\", \"Postn\"],\n",
    "    \"Endothelial\":   [\"Cd36\", \"Pecam1\", \"Vwf\", \"Emcn\"],\n",
    "    \"Epicardial\":    [\"Gpx3\"],\n",
    "    \"Smooth muscle\": [\"Myh11\", \"Acta2\"],\n",
    "    \"Macrophage\":    [\"C1qa\", \"Cd68\"],\n",
    "    \"Lymphocyte\":    [\"Ptprc\"],\n",
    "    \"Pericyte\":      [\"Rgs5\"],\n",
    "}\n",
    "\n",
    "# Dotplot\n",
    "sc.pl.dotplot(\n",
    "    adata_all,\n",
    "    var_names=marker_genes,\n",
    "    groupby='condition',\n",
    "    use_raw=False,\n",
    "    standard_scale='var',\n",
    "    figsize=(10, 6),\n",
    "    show=False\n",
    ")\n",
    "fig = plt.gcf()\n",
    "fig.savefig('./results/Figure2A_dotplot.png', dpi=300, bbox_inches='tight')\n",
    "plt.close(fig)"
   ]
  },
  {
   "cell_type": "markdown",
   "id": "8c672999",
   "metadata": {},
   "source": [
    "## 3. Figure 2B: Spatial Scatter of Final Cell Types"
   ]
  },
  {
   "cell_type": "code",
   "execution_count": null,
   "id": "87cb8a7e",
   "metadata": {},
   "outputs": [],
   "source": [
    "# Define colors\n",
    "all_types = sorted(adata_all.obs['final_cell_type'].unique())\n",
    "custom_colors = {\n",
    "    \"Cardiomyocyte\": \"#e41a1c\",\n",
    "    \"Endothelial\":   \"#377eb8\",\n",
    "    \"Fibroblast\":    \"#4daf4a\",\n",
    "    \"Smooth muscle\": \"#e65100\",\n",
    "}\n",
    "base_colors = plt.cm.tab20.colors\n",
    "color_dict = {**custom_colors}\n",
    "for i, ct in enumerate([ct for ct in all_types if ct not in custom_colors]):\n",
    "    color_dict[ct] = base_colors[i % len(base_colors)]\n",
    "\n",
    "# Plot\n",
    "fig, axes = plt.subplots(2, 2, figsize=(12, 10))\n",
    "axes = axes.flatten()\n",
    "labels = ['Control-Young', 'Control-Aged', 'PE-Young', 'PE-Aged']\n",
    "\n",
    "for ax, cond in zip(axes, labels):\n",
    "    sub = adata_all[adata_all.obs['condition'] == cond]\n",
    "    coords = sub.obsm['spatial']\n",
    "    types = sub.obs['final_cell_type']\n",
    "    for ct in all_types:\n",
    "        mask = types == ct\n",
    "        if mask.any():\n",
    "            ax.scatter(coords[mask, 0], coords[mask, 1],\n",
    "                       s=0.1, color=color_dict[ct], label=ct)\n",
    "    ax.set_title(cond, fontsize=20)\n",
    "    ax.set_xticks([])\n",
    "    ax.set_yticks([])\n",
    "    ax.set_aspect('equal')\n",
    "\n",
    "# Global legend\n",
    "handles = [plt.Line2D([0], [0], marker='o', color='w',\n",
    "                      label=ct, markerfacecolor=color_dict[ct], markersize=6)\n",
    "           for ct in all_types]\n",
    "fig.legend(handles=handles, title='Final Cell Type',\n",
    "           loc='lower center', ncol=4, fontsize=12, title_fontsize=14)\n",
    "plt.subplots_adjust(bottom=0.15, top=0.95, wspace=0.1, hspace=0.1)\n",
    "fig.savefig('./results/Figure2B_spatial_scatter.png', dpi=300, bbox_inches='tight')\n",
    "plt.close(fig)"
   ]
  },
  {
   "cell_type": "markdown",
   "id": "5218d0c2",
   "metadata": {},
   "source": [
    "## 4. Figures 2C–2E: Gene Expression Overlays"
   ]
  },
  {
   "cell_type": "code",
   "execution_count": null,
   "id": "0b4041a0",
   "metadata": {},
   "outputs": [],
   "source": [
    "from matplotlib.lines import Line2D\n",
    "\n",
    "def plot_overlay(gene, color, fname):\n",
    "    fig, axes = plt.subplots(2, 2, figsize=(12, 10))\n",
    "    axes = axes.flatten()\n",
    "    for ax, cond in zip(axes, labels):\n",
    "        sub = adata_all[adata_all.obs['condition'] == cond]\n",
    "        coords = sub.obsm['spatial']\n",
    "        expr = sub[:, gene].X.toarray().flatten()\n",
    "        # Plot no-expression\n",
    "        ax.scatter(coords[expr == 0, 0], coords[expr == 0, 1],\n",
    "                   s=0.1, c='lightgray', alpha=0.8)\n",
    "        # Plot expressed\n",
    "        ax.scatter(coords[expr > 0, 0], coords[expr > 0, 1],\n",
    "                   s=0.1, c=color, alpha=0.8)\n",
    "        ax.set_title(cond, fontsize=18)\n",
    "        ax.set_xticks([]); ax.set_yticks([]); ax.set_aspect('equal')\n",
    "    # Legend\n",
    "    legend_elems = [\n",
    "        Line2D([0], [0], marker='o', color='w', markerfacecolor='lightgray', markersize=6, label='No Expression'),\n",
    "        Line2D([0], [0], marker='o', color='w', markerfacecolor=color, markersize=6, label=gene)\n",
    "    ]\n",
    "    fig.legend(handles=legend_elems, title=f'{gene} Expression',\n",
    "               loc='upper center', ncol=2, fontsize=12, title_fontsize=14)\n",
    "    plt.subplots_adjust(top=0.9, bottom=0.05, wspace=0.1, hspace=0.1)\n",
    "    fig.savefig(f'./results/{fname}', dpi=300, bbox_inches='tight')\n",
    "    plt.close(fig)\n",
    "\n",
    "# Generate overlays\n",
    "plot_overlay('Ryr2', 'orange', 'Figure2C_Ryr2_overlay.png')\n",
    "plot_overlay('Col1a1', 'green',  'Figure2D_Col1a1_overlay.png')\n",
    "plot_overlay('Cd68',  'purple', 'Figure2E_Cd68_overlay.png')"
   ]
  }
 ],
 "metadata": {},
 "nbformat": 4,
 "nbformat_minor": 5
}
